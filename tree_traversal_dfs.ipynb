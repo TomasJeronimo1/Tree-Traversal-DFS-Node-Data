{
 "cells": [
  {
   "cell_type": "markdown",
   "metadata": {},
   "source": [
    "#### Tree Traversal DFS to manipulate Data"
   ]
  },
  {
   "cell_type": "code",
   "execution_count": 1,
   "metadata": {},
   "outputs": [],
   "source": [
    "import pandas as pd\n",
    "\n",
    "df = pd.read_csv(\"Data Studying/node.csv\")"
   ]
  },
  {
   "cell_type": "code",
   "execution_count": null,
   "metadata": {},
   "outputs": [
    {
     "name": "stdout",
     "output_type": "stream",
     "text": [
      "Tree:{2: [1, 11], 3: [2], 4: [3], 0: [4, 7], 5: [12], 6: [5, 15], 7: [6]}\n",
      "All Paths:[[0, 4, 3, 2, 1], [0, 4, 3, 2, 11], [0, 7, 6, 5, 12], [0, 7, 6, 15]]\n"
     ]
    }
   ],
   "source": [
    "tree = {}\n",
    "for _, row in df.iterrows():\n",
    "    node_id = row['Node ID']\n",
    "    parent_id = row['Parent ID']\n",
    "    if parent_id not in tree:\n",
    "        tree[parent_id] = []\n",
    "    tree[parent_id].append(node_id)\n",
    "\n",
    "print(f\"Tree:{tree}\")\n",
    "\n",
    "\n",
    "def dfs(tree, node, path, all_paths):\n",
    "    path.append(node)\n",
    "    if node not in tree:\n",
    "        all_paths.append(list(path))\n",
    "    else:\n",
    "        for child in tree[node]:\n",
    "            dfs(tree, child, path, all_paths)\n",
    "    path.pop()\n",
    "\n",
    "path = []\n",
    "all_paths = []\n",
    "visited = set()\n",
    "dfs(tree, 0, path, all_paths)\n",
    "\n",
    "print(f\"All Paths:{all_paths}\")"
   ]
  }
 ],
 "metadata": {
  "kernelspec": {
   "display_name": "Python 3 (ipykernel)",
   "language": "python",
   "name": "python3"
  },
  "language_info": {
   "codemirror_mode": {
    "name": "ipython",
    "version": 3
   },
   "file_extension": ".py",
   "mimetype": "text/x-python",
   "name": "python",
   "nbconvert_exporter": "python",
   "pygments_lexer": "ipython3",
   "version": "3.12.3"
  }
 },
 "nbformat": 4,
 "nbformat_minor": 2
}
